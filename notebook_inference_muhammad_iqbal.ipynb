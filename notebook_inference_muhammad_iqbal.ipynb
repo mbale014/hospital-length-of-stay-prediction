{
 "cells": [
  {
   "cell_type": "markdown",
   "metadata": {},
   "source": [
    "## BAB X - Model Inference"
   ]
  },
  {
   "cell_type": "markdown",
   "metadata": {},
   "source": [
    "Bagian ini dilakukan model inference dari model yg sudah dibuat di bab sebelumnya. Pertama melakukan import library dan load data."
   ]
  },
  {
   "cell_type": "code",
   "execution_count": 5,
   "metadata": {},
   "outputs": [],
   "source": [
    "#Import library\n",
    "import pandas as pd\n",
    "import pickle\n",
    "\n",
    "#Load files\n",
    "with open('model.pkl', 'rb') as file_1:\n",
    "    model = pickle.load(file_1)"
   ]
  },
  {
   "cell_type": "markdown",
   "metadata": {},
   "source": [
    "Load data berhasil dilakukan. Selanjutnya membuat data baru sebagai data inference. Kolom yg menunjukkan `vdate` dan `discharged` tidak dimasukkan karena saya ingin model memprediksi dari hasil uji lab dan diagnosis pasien. "
   ]
  },
  {
   "cell_type": "code",
   "execution_count": 6,
   "metadata": {},
   "outputs": [
    {
     "data": {
      "text/html": [
       "<div>\n",
       "<style scoped>\n",
       "    .dataframe tbody tr th:only-of-type {\n",
       "        vertical-align: middle;\n",
       "    }\n",
       "\n",
       "    .dataframe tbody tr th {\n",
       "        vertical-align: top;\n",
       "    }\n",
       "\n",
       "    .dataframe thead th {\n",
       "        text-align: right;\n",
       "    }\n",
       "</style>\n",
       "<table border=\"1\" class=\"dataframe\">\n",
       "  <thead>\n",
       "    <tr style=\"text-align: right;\">\n",
       "      <th></th>\n",
       "      <th>eid</th>\n",
       "      <th>rcount</th>\n",
       "      <th>gender</th>\n",
       "      <th>dialysisrenalendstage</th>\n",
       "      <th>asthma</th>\n",
       "      <th>irondef</th>\n",
       "      <th>pneum</th>\n",
       "      <th>substancedependence</th>\n",
       "      <th>psychologicaldisordermajor</th>\n",
       "      <th>depress</th>\n",
       "      <th>...</th>\n",
       "      <th>neutrophils</th>\n",
       "      <th>sodium</th>\n",
       "      <th>glucose</th>\n",
       "      <th>bloodureanitro</th>\n",
       "      <th>creatinine</th>\n",
       "      <th>bmi</th>\n",
       "      <th>pulse</th>\n",
       "      <th>respiration</th>\n",
       "      <th>secondarydiagnosisnonicd9</th>\n",
       "      <th>facid</th>\n",
       "    </tr>\n",
       "  </thead>\n",
       "  <tbody>\n",
       "    <tr>\n",
       "      <th>0</th>\n",
       "      <td>1000</td>\n",
       "      <td>0</td>\n",
       "      <td>M</td>\n",
       "      <td>1</td>\n",
       "      <td>1</td>\n",
       "      <td>0</td>\n",
       "      <td>0</td>\n",
       "      <td>0</td>\n",
       "      <td>1</td>\n",
       "      <td>0</td>\n",
       "      <td>...</td>\n",
       "      <td>11</td>\n",
       "      <td>140</td>\n",
       "      <td>160</td>\n",
       "      <td>10</td>\n",
       "      <td>0.9</td>\n",
       "      <td>23.4</td>\n",
       "      <td>60</td>\n",
       "      <td>7</td>\n",
       "      <td>1</td>\n",
       "      <td>A</td>\n",
       "    </tr>\n",
       "    <tr>\n",
       "      <th>1</th>\n",
       "      <td>1001</td>\n",
       "      <td>2</td>\n",
       "      <td>F</td>\n",
       "      <td>0</td>\n",
       "      <td>0</td>\n",
       "      <td>1</td>\n",
       "      <td>0</td>\n",
       "      <td>0</td>\n",
       "      <td>0</td>\n",
       "      <td>0</td>\n",
       "      <td>...</td>\n",
       "      <td>6</td>\n",
       "      <td>149</td>\n",
       "      <td>150</td>\n",
       "      <td>15</td>\n",
       "      <td>1.2</td>\n",
       "      <td>26.7</td>\n",
       "      <td>70</td>\n",
       "      <td>6</td>\n",
       "      <td>3</td>\n",
       "      <td>D</td>\n",
       "    </tr>\n",
       "  </tbody>\n",
       "</table>\n",
       "<p>2 rows × 25 columns</p>\n",
       "</div>"
      ],
      "text/plain": [
       "    eid rcount gender  dialysisrenalendstage  asthma  irondef  pneum  \\\n",
       "0  1000      0      M                      1       1        0      0   \n",
       "1  1001      2      F                      0       0        1      0   \n",
       "\n",
       "   substancedependence  psychologicaldisordermajor  depress  ...  neutrophils  \\\n",
       "0                    0                           1        0  ...           11   \n",
       "1                    0                           0        0  ...            6   \n",
       "\n",
       "   sodium  glucose  bloodureanitro  creatinine   bmi  pulse  respiration  \\\n",
       "0     140      160              10         0.9  23.4     60            7   \n",
       "1     149      150              15         1.2  26.7     70            6   \n",
       "\n",
       "   secondarydiagnosisnonicd9  facid  \n",
       "0                          1      A  \n",
       "1                          3      D  \n",
       "\n",
       "[2 rows x 25 columns]"
      ]
     },
     "execution_count": 6,
     "metadata": {},
     "output_type": "execute_result"
    }
   ],
   "source": [
    "#Create new inference\n",
    "df_inf = {'eid' : [1000, 1001],\n",
    "          'rcount' : ['0', '2'],\n",
    "          'gender' : ['M', 'F'],\n",
    "          'dialysisrenalendstage': [1, 0],\n",
    "          'asthma': [1, 0],\n",
    "        'irondef': [0,1],\n",
    "        'pneum':[0,0], \n",
    "        'substancedependence': [0,0], \n",
    "        'psychologicaldisordermajor': [1,0],\n",
    "        'depress':[0,0],\n",
    "        'psychother': [0,1],\n",
    "        'fibrosisandother': [0,0],\n",
    "        'malnutrition': [0,1], \n",
    "        'hemo':[0,0],\n",
    "        'hematocrit':[5, 9],\n",
    "        'neutrophils': [11, 6],\n",
    "        'sodium':[140, 149],\n",
    "        'glucose': [160, 150],\n",
    "        'bloodureanitro': [10, 15],\n",
    "        'creatinine': [0.9, 1.2],\n",
    "        'bmi': [23.4, 26.7],\n",
    "        'pulse': [60, 70],\n",
    "        'respiration': [7,6],\n",
    "        'secondarydiagnosisnonicd9': [1,3], \n",
    "        'facid':['A', 'D'] \n",
    "                }\n",
    "\n",
    "#Change into dataframe\n",
    "df_inf = pd.DataFrame(data=df_inf)\n",
    "df_inf.head()"
   ]
  },
  {
   "cell_type": "code",
   "execution_count": 7,
   "metadata": {},
   "outputs": [],
   "source": [
    "# Sum the prediagnosis condition\n",
    "medical_conditions = [\n",
    "    \"dialysisrenalendstage\", \"asthma\", \"irondef\", \"pneum\", \"substancedependence\", \n",
    "    \"psychologicaldisordermajor\", \"depress\", \"psychother\", \"fibrosisandother\", \n",
    "    \"malnutrition\", \"hemo\"]\n",
    "\n",
    "df_inf[\"number_of_issues\"] = df_inf[medical_conditions].sum(axis=1)\n",
    "\n",
    "#Drop columns\n",
    "df_inf_final = df_inf.drop(columns=['gender', 'asthma', 'pneum', 'depress', 'fibrosisandother', \n",
    "                        'sodium', 'glucose', 'creatinine', 'bmi', 'pulse', \n",
    "                        'secondarydiagnosisnonicd9','dialysisrenalendstage', \n",
    "                        'substancedependence', 'hematocrit','respiration'])"
   ]
  },
  {
   "cell_type": "code",
   "execution_count": 8,
   "metadata": {},
   "outputs": [
    {
     "name": "stdout",
     "output_type": "stream",
     "text": [
      "Prediksi lama rawat inap pasien ke- 1 : 4 hari\n",
      "Prediksi lama rawat inap pasien ke- 2 : 6 hari\n"
     ]
    }
   ],
   "source": [
    "#Predict the new data\n",
    "prediction = model.predict(df_inf_final)\n",
    "\n",
    "#Show prediction\n",
    "print(f\"Prediksi lama rawat inap pasien ke- 1 : {round(prediction[0])} hari\" )\n",
    "print(f\"Prediksi lama rawat inap pasien ke- 2 : {round(prediction[1])} hari\" )"
   ]
  }
 ],
 "metadata": {
  "kernelspec": {
   "display_name": "mldl",
   "language": "python",
   "name": "python3"
  },
  "language_info": {
   "codemirror_mode": {
    "name": "ipython",
    "version": 3
   },
   "file_extension": ".py",
   "mimetype": "text/x-python",
   "name": "python",
   "nbconvert_exporter": "python",
   "pygments_lexer": "ipython3",
   "version": "3.9.21"
  }
 },
 "nbformat": 4,
 "nbformat_minor": 2
}
